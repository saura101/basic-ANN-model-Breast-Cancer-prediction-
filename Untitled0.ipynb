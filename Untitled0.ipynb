{
  "nbformat": 4,
  "nbformat_minor": 0,
  "metadata": {
    "colab": {
      "name": "Untitled0.ipynb",
      "provenance": [],
      "collapsed_sections": []
    },
    "kernelspec": {
      "name": "python3",
      "display_name": "Python 3"
    },
    "language_info": {
      "name": "python"
    }
  },
  "cells": [
    {
      "cell_type": "code",
      "metadata": {
        "id": "qRtbZhw11wyH"
      },
      "source": [
        ""
      ],
      "execution_count": 5,
      "outputs": []
    },
    {
      "cell_type": "code",
      "metadata": {
        "id": "YII-sVI-1zJA"
      },
      "source": [
        "# Brest cancer \n",
        "from sklearn.datasets import load_breast_cancer\n",
        "Data= load_breast_cancer()\n",
        "\n",
        "features= Data.data\n",
        "target= Data.target\n",
        "\n",
        "#print(features.shape)\n",
        "#print(target.shape)\n",
        "#print(Data.DESCR)\n",
        "from sklearn.model_selection import train_test_split\n",
        "\n",
        "X_train, X_test, Y_train, Y_test= train_test_split(features, target, test_size=0.3)\n",
        "\n",
        "print(X_train.shape)\n",
        "print(Y_train.shape)\n",
        "print(X_test.shape)\n",
        "print(Y_test.shape)\n",
        "\n",
        "#import tensorflow as tf\n",
        "from keras.models import Sequential\n",
        "from keras.layers import Dense\n",
        "\n",
        "\n",
        "model= Sequential()\n",
        "model.add(Dense(32 ,input_dim=30, activation='relu'))\n",
        "model.add(Dense(64 ,activation='relu'))\n",
        "model.add(Dense(1,activation='sigmoid'))\n",
        "\n",
        "model.compile(optimizer= 'adam', loss= 'binary_crossentropy', metrics= ['accuracy'])\n",
        "model.summary()\n",
        "\n",
        "model.fit(X_train, Y_train, epochs=50)\n",
        "\n",
        "scores= model.evaluate(X_test, Y_test)\n",
        "print(scores)\n",
        "\n",
        "predictions= model.predict(X_test)\n",
        "label= []\n",
        "for pred in predictions:\n",
        "  if pred >= 0.5:\n",
        "    print(\"malignanat\")\n",
        "  else :\n",
        "    print(\" Benign\")\n"
      ],
      "execution_count": null,
      "outputs": []
    }
  ]
}